{
 "cells": [
  {
   "cell_type": "code",
   "execution_count": null,
   "metadata": {},
   "outputs": [],
   "source": [
    "import cv2, sys, os, joblib\n",
    "from glob import glob\n",
    "from tqdm.notebook import trange, tqdm\n",
    "import numpy as np\n",
    "\n",
    "# !pip instal dlib # how to from https://github.com/ageitgey/face_recognition/issues/175\n",
    "# !pip install face_recognition\n",
    "import dlib # Landmarks algorithme\n",
    "import math\n",
    "from skimage import feature \n",
    "from skimage.feature import hog\n",
    "import random\n",
    "import pandas as pd\n",
    "\n",
    "from sklearn.svm import SVC\n",
    "from sklearn.neighbors import KNeighborsClassifier\n",
    "from sklearn.linear_model import LogisticRegression\n",
    "from sklearn.naive_bayes import GaussianNB\n",
    "\n",
    "from sklearn.pipeline import make_pipeline, Pipeline\n",
    "\n",
    "from sklearn.model_selection import KFold, ShuffleSplit, train_test_split, GridSearchCV\n",
    "from sklearn.metrics import confusion_matrix, classification_report, f1_score\n",
    "\n",
    "from sklearn.decomposition import PCA\n",
    "from sklearn.preprocessing import StandardScaler, MinMaxScaler\n",
    "from ReliefF import ReliefF # Reduction du dimentionnalité\n",
    "\n",
    "import matplotlib.pyplot as plt\n",
    "import matplotlib.image as mpimg \n",
    "%matplotlib inline\n",
    "import seaborn as sns # Visualisation de données\n",
    "import imageio\n",
    "import matplotlib.pyplot as plt\n",
    "from mlxtend.image import extract_face_landmarks\n",
    "import imageio.v3 as iio\n",
    "from pathlib import Path\n",
    "from os import listdir\n",
    "import csv \n",
    "\n",
    "home = 'C:/Users/rew/Documents/Education/CN/CN240/dlib_240/'"
   ]
  },
  {
   "cell_type": "code",
   "execution_count": null,
   "metadata": {},
   "outputs": [],
   "source": [
    "def plotting_image(img,landmarks):\n",
    "    fig = plt.figure(figsize=(15, 5))\n",
    "    ax = fig.add_subplot(1, 3, 1)\n",
    "    ax.imshow(img, cmap='gray')\n",
    "    ax = fig.add_subplot(1, 3, 2)\n",
    "    ax.scatter(landmarks[:, 0], -landmarks[:, 1], alpha=0.8)\n",
    "    ax = fig.add_subplot(1, 3, 3)\n",
    "\n",
    "    img2 = img.copy()\n",
    "\n",
    "    for p in landmarks:\n",
    "        img2[p[1]-1:p[1]+1, p[0]-1:p[0]+1] = 255\n",
    "        # note that the values -1 and +1 will make the landmarks\n",
    "        # overlayed on the image 2 pixels wide; depending on the\n",
    "        # resolution of the face image, you may want to change\n",
    "        # this value\n",
    "\n",
    "    ax.imshow(img2, cmap='gray')\n",
    "    return plt.show()  "
   ]
  },
  {
   "cell_type": "code",
   "execution_count": null,
   "metadata": {},
   "outputs": [],
   "source": [
    "def face_landmarks(home_path):\n",
    "    img_path = home_path +'Newsadness'\n",
    "    namelist = listdir(img_path)\n",
    "    img_narray = []\n",
    "    for images in namelist:\n",
    "        img = cv2.imread(img_path+ \"/\" + images, 0)\n",
    "        landmarks = extract_face_landmarks(img)\n",
    "        if(type(landmarks) == 'NoneType'):\n",
    "            continue\n",
    "        print(type(landmarks))\n",
    "        img_narray.append(landmarks)\n",
    "        print(landmarks.shape)\n",
    "        print('\\n\\n 68 landmarks:\\n', landmarks[:68])\n",
    "        plotting_image(img,landmarks)\n",
    "        print(len(img_narray))\n",
    "    return img_narray"
   ]
  },
  {
   "cell_type": "code",
   "execution_count": null,
   "metadata": {},
   "outputs": [],
   "source": [
    "def list_to_csv(img_narray):    \n",
    "    file = open('feature_extraction.csv', 'w+', newline ='') \n",
    "    with file:     \n",
    "        write = csv.writer(file) \n",
    "        write.writerows(img_narray) "
   ]
  },
  {
   "cell_type": "code",
   "execution_count": null,
   "metadata": {},
   "outputs": [],
   "source": [
    "img_narray = face_landmarks(home)\n",
    "list_to_csv(img_narray)"
   ]
  },
  {
   "cell_type": "code",
   "execution_count": null,
   "metadata": {},
   "outputs": [],
   "source": [
    "# with open('feature_extraction.csv', 'w') as f: \n",
    "#     write = csv.writer(f) \n",
    "#     write.writerows(img_narray) "
   ]
  }
 ],
 "metadata": {
  "interpreter": {
   "hash": "2be5faf79681da6f2a61fdfdd5405d65d042280f7fba6178067603e3a2925119"
  },
  "kernelspec": {
   "display_name": "Python 3.10.4 64-bit",
   "language": "python",
   "name": "python3"
  },
  "language_info": {
   "codemirror_mode": {
    "name": "ipython",
    "version": 3
   },
   "file_extension": ".py",
   "mimetype": "text/x-python",
   "name": "python",
   "nbconvert_exporter": "python",
   "pygments_lexer": "ipython3",
   "version": "3.10.4"
  },
  "orig_nbformat": 4
 },
 "nbformat": 4,
 "nbformat_minor": 2
}
